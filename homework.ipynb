{
  "cells": [
    {
      "cell_type": "markdown",
      "metadata": {
        "id": "77QuD1sxaGQ8"
      },
      "source": [
        "# DX 602 Week 7 Homework\n",
        "\n"
      ]
    },
    {
      "cell_type": "markdown",
      "metadata": {
        "id": "CjGG1RQ0KUYM"
      },
      "source": [
        "## Introduction\n",
        "\n",
        "In this homework, you will continue practicing the NumPy library to work with numbers in various ways.\n",
        "There will be a particular focus on views, but you will also be asked to find and recognize relevant NumPy functions on your own.\n",
        "NumPy is a large library with a lot of different functionality.\n",
        "It is impractical to introduce each function individually, yet you will be able to make use of most of its functionality with a basic exercise of search skills.\n"
      ]
    },
    {
      "cell_type": "markdown",
      "metadata": {
        "id": "rkvkfxoNO9fp"
      },
      "source": [
        "## Example Code\n",
        "\n",
        "You may find it helpful to refer to this GitHub repository of Jupyter notebooks for example code.\n",
        "\n",
        "* https://github.com/bu-cds-omds/dx602-examples\n",
        "\n",
        "Any calculations demonstrated in code examples or videos may be found in these notebooks, and you are allowed to copy this example code in your homework answers."
      ]
    },
    {
      "cell_type": "markdown",
      "metadata": {
        "id": "3O2z2ThRO9fp"
      },
      "source": [
        "## Shared Imports\n",
        "\n",
        "Do not install or use any additional modules.\n",
        "Installing additional modules may result in an autograder failure resulting in zero points for some or all problems."
      ]
    },
    {
      "cell_type": "code",
      "execution_count": 1,
      "metadata": {
        "id": "mTOOnig1O9fp"
      },
      "outputs": [],
      "source": [
        "import math\n",
        "import sys"
      ]
    },
    {
      "cell_type": "code",
      "execution_count": 2,
      "metadata": {
        "id": "iavUEBrjO9fq"
      },
      "outputs": [],
      "source": [
        "import matplotlib.pyplot as plt\n",
        "import numpy as np"
      ]
    },
    {
      "cell_type": "markdown",
      "metadata": {
        "id": "omut0-N1aEVB"
      },
      "source": [
        "## Problems"
      ]
    },
    {
      "cell_type": "markdown",
      "metadata": {
        "id": "UkvhhLLSO9fq"
      },
      "source": [
        "### Problem 1\n",
        "\n",
        "Set `p1` to be `q1` flipped upside down."
      ]
    },
    {
      "cell_type": "code",
      "execution_count": 3,
      "metadata": {
        "id": "HQNsTT_oO9fq"
      },
      "outputs": [],
      "source": [
        "# DO NOT CHANGE\n",
        "\n",
        "q1 = np.array([[9, 1, 6], [2, 6, 3], [5, 0, 7]])"
      ]
    },
    {
      "cell_type": "code",
      "execution_count": 5,
      "metadata": {
        "id": "J_W2aB8eO9fr"
      },
      "outputs": [],
      "source": [
        "# YOUR CHANGES HERE\n",
        "\n",
        "p1 = np.flipud(q1)"
      ]
    },
    {
      "cell_type": "code",
      "execution_count": 6,
      "metadata": {
        "colab": {
          "base_uri": "https://localhost:8080/"
        },
        "id": "OP3SUgAYO9fr",
        "outputId": "8da0235a-24b5-40a3-8175-b19596c739ac"
      },
      "outputs": [
        {
          "output_type": "execute_result",
          "data": {
            "text/plain": [
              "array([[5, 0, 7],\n",
              "       [2, 6, 3],\n",
              "       [9, 1, 6]])"
            ]
          },
          "metadata": {},
          "execution_count": 6
        }
      ],
      "source": [
        "p1"
      ]
    },
    {
      "cell_type": "markdown",
      "metadata": {
        "id": "XmVYu4mvO9fr"
      },
      "source": [
        "### Problem 2\n",
        "\n",
        "Set `p2` to be the average value of `q2`."
      ]
    },
    {
      "cell_type": "code",
      "execution_count": 7,
      "metadata": {
        "colab": {
          "base_uri": "https://localhost:8080/"
        },
        "id": "rpQSTtNmO9fr",
        "outputId": "845ed9e0-23cb-429c-ff5c-ddf051e87c00"
      },
      "outputs": [
        {
          "output_type": "execute_result",
          "data": {
            "text/plain": [
              "array([[ 1.2710684 ,  0.34651747,  0.68960684, -1.12567075, -0.06412985,\n",
              "         0.13373547,  0.84314528,  0.35206589],\n",
              "       [-1.18745615,  0.50656175,  0.66699453,  0.72676468, -0.34165581,\n",
              "        -1.00205835,  0.02101389,  0.93188219],\n",
              "       [ 0.23127874, -0.32878023, -0.97939304,  0.01044438, -0.81895036,\n",
              "        -0.44674951,  0.87667202, -1.51737553],\n",
              "       [ 2.07266937, -1.63841334, -0.20043649,  1.01993301, -1.21509526,\n",
              "        -0.15027553,  0.39621876,  0.28836095],\n",
              "       [-0.83933974,  1.64994802, -0.1213623 ,  0.25179499,  1.0813766 ,\n",
              "         0.48275638, -1.41171727, -0.72633164],\n",
              "       [-0.38257196,  0.12212784,  0.73860358, -1.61096579, -0.38644903,\n",
              "         0.30642748,  0.92550333, -2.20470762],\n",
              "       [ 0.32864359,  0.8622356 ,  1.99156784,  0.2118577 , -0.58876625,\n",
              "        -1.01185141,  0.83046577, -0.48243025],\n",
              "       [ 0.31960012,  0.60696688,  0.68950522, -0.80539561, -1.04918003,\n",
              "         0.2794904 , -0.09944267,  0.31027322]])"
            ]
          },
          "metadata": {},
          "execution_count": 7
        }
      ],
      "source": [
        "# DO NOT CHANGE\n",
        "\n",
        "q2 = np.array([[ 1.2710684 ,  0.34651747,  0.68960684, -1.12567075, -0.06412985,\n",
        "         0.13373547,  0.84314528,  0.35206589],\n",
        "       [-1.18745615,  0.50656175,  0.66699453,  0.72676468, -0.34165581,\n",
        "        -1.00205835,  0.02101389,  0.93188219],\n",
        "       [ 0.23127874, -0.32878023, -0.97939304,  0.01044438, -0.81895036,\n",
        "        -0.44674951,  0.87667202, -1.51737553],\n",
        "       [ 2.07266937, -1.63841334, -0.20043649,  1.01993301, -1.21509526,\n",
        "        -0.15027553,  0.39621876,  0.28836095],\n",
        "       [-0.83933974,  1.64994802, -0.1213623 ,  0.25179499,  1.0813766 ,\n",
        "         0.48275638, -1.41171727, -0.72633164],\n",
        "       [-0.38257196,  0.12212784,  0.73860358, -1.61096579, -0.38644903,\n",
        "         0.30642748,  0.92550333, -2.20470762],\n",
        "       [ 0.32864359,  0.8622356 ,  1.99156784,  0.2118577 , -0.58876625,\n",
        "        -1.01185141,  0.83046577, -0.48243025],\n",
        "       [ 0.31960012,  0.60696688,  0.68950522, -0.80539561, -1.04918003,\n",
        "         0.2794904 , -0.09944267,  0.31027322]])\n",
        "q2"
      ]
    },
    {
      "cell_type": "code",
      "execution_count": 10,
      "metadata": {
        "id": "-WK3V_0LO9fr"
      },
      "outputs": [],
      "source": [
        "p2 = np.mean(np.ravel(q2))"
      ]
    },
    {
      "cell_type": "code",
      "execution_count": 11,
      "metadata": {
        "colab": {
          "base_uri": "https://localhost:8080/"
        },
        "id": "e2Rompm8O9fr",
        "outputId": "b0acb6b5-6269-4db9-b69e-ca92b87a2987"
      },
      "outputs": [
        {
          "output_type": "execute_result",
          "data": {
            "text/plain": [
              "np.float64(0.009955100156249994)"
            ]
          },
          "metadata": {},
          "execution_count": 11
        }
      ],
      "source": [
        "p2"
      ]
    },
    {
      "cell_type": "markdown",
      "metadata": {
        "id": "FigRYhR_agfC"
      },
      "source": [
        "### Problem 3\n",
        "\n",
        "Write a function `p3` that takes in a 2-dimensional array and returns an array with the even columns of the input array.\n"
      ]
    },
    {
      "cell_type": "code",
      "execution_count": 35,
      "metadata": {
        "id": "sP7nAQIyaiA0"
      },
      "outputs": [],
      "source": [
        "# YOUR CHANGES HERE\n",
        "\n",
        "def p3(x):\n",
        "    return (x[:,::2])"
      ]
    },
    {
      "cell_type": "code",
      "execution_count": 36,
      "metadata": {
        "colab": {
          "base_uri": "https://localhost:8080/"
        },
        "id": "oeppzNQyO9fr",
        "outputId": "320bfba8-fca8-4499-fd38-cd802e2a7cdb"
      },
      "outputs": [
        {
          "output_type": "execute_result",
          "data": {
            "text/plain": [
              "array([[0, 2, 4]])"
            ]
          },
          "metadata": {},
          "execution_count": 36
        }
      ],
      "source": [
        "# the output should have values [[0, 2, 4]]\n",
        "p3(np.array([[0, 1, 2, 3, 4]]))"
      ]
    },
    {
      "cell_type": "code",
      "execution_count": 37,
      "metadata": {
        "colab": {
          "base_uri": "https://localhost:8080/"
        },
        "id": "YclIiy-ZO9fr",
        "outputId": "d0629cf4-3b29-4b12-eea7-df3eaab15ce7"
      },
      "outputs": [
        {
          "output_type": "execute_result",
          "data": {
            "text/plain": [
              "array([[0, 2, 4],\n",
              "       [5, 7, 9]])"
            ]
          },
          "metadata": {},
          "execution_count": 37
        }
      ],
      "source": [
        "p3(np.array([[0, 1, 2, 3, 4], [5, 6, 7, 8, 9]]))"
      ]
    },
    {
      "cell_type": "markdown",
      "metadata": {
        "id": "hlMy5gDWajlh"
      },
      "source": [
        "### Problem 4\n",
        "\n",
        "Write a function `p4` taking in a 2-dimensional array, and returning a 1-dimensional array with every 5th element of a row-order traversal of the input, starting from the 3rd element."
      ]
    },
    {
      "cell_type": "code",
      "execution_count": 38,
      "metadata": {
        "id": "_PPKpb2Damy_"
      },
      "outputs": [],
      "source": [
        "# YOUR CHANGES HERE\n",
        "\n",
        "def p4(x):\n",
        "  flat = np.ravel(x)\n",
        "\n",
        "  return (flat[2::5])"
      ]
    },
    {
      "cell_type": "code",
      "execution_count": 39,
      "metadata": {
        "colab": {
          "base_uri": "https://localhost:8080/"
        },
        "id": "P4f4jXASO9fs",
        "outputId": "3e21d5ca-63ff-4c2a-ca61-afee1a051049"
      },
      "outputs": [
        {
          "output_type": "execute_result",
          "data": {
            "text/plain": [
              "array([[ 0,  1,  2,  3],\n",
              "       [ 4,  5,  6,  7],\n",
              "       [ 8,  9, 10, 11],\n",
              "       [12, 13, 14, 15]])"
            ]
          },
          "metadata": {},
          "execution_count": 39
        }
      ],
      "source": [
        "x4 = np.array([[0, 1, 2, 3], [4, 5, 6, 7], [8, 9, 10, 11], [12, 13, 14, 15]])\n",
        "x4"
      ]
    },
    {
      "cell_type": "code",
      "execution_count": 40,
      "metadata": {
        "colab": {
          "base_uri": "https://localhost:8080/"
        },
        "id": "ooSjtic3O9fs",
        "outputId": "d9397361-6d3b-4da1-c995-a9e6530041e5"
      },
      "outputs": [
        {
          "output_type": "execute_result",
          "data": {
            "text/plain": [
              "array([ 2,  7, 12])"
            ]
          },
          "metadata": {},
          "execution_count": 40
        }
      ],
      "source": [
        "# this should return a 1-dimensional array with contents [2, 7, 12]\n",
        "\n",
        "p4(x4)"
      ]
    },
    {
      "cell_type": "markdown",
      "metadata": {
        "id": "9Wl_6b7sasyk"
      },
      "source": [
        "### Problem 5\n",
        "\n",
        "What NumPy function evaluates the Einstein summation convention?\n",
        "Set `p5` to be a reference to that function.\n",
        "You can look for this function by using NumPy site documentation and search, or other search engines."
      ]
    },
    {
      "cell_type": "code",
      "execution_count": 41,
      "metadata": {
        "id": "mTG8Edklazov"
      },
      "outputs": [],
      "source": [
        "# YOUR CHANGES HERE\n",
        "\n",
        "p5 = np.einsum"
      ]
    },
    {
      "cell_type": "code",
      "execution_count": 42,
      "metadata": {
        "colab": {
          "base_uri": "https://localhost:8080/"
        },
        "id": "dZUesF0JO9fs",
        "outputId": "eabe56fa-183f-4ef4-fa44-fee262cca216"
      },
      "outputs": [
        {
          "output_type": "execute_result",
          "data": {
            "text/plain": [
              "<function einsum at 0x7994a0771af0>"
            ]
          },
          "metadata": {},
          "execution_count": 42
        }
      ],
      "source": [
        "p5"
      ]
    },
    {
      "cell_type": "markdown",
      "metadata": {
        "id": "Uv3aC8Ara0vY"
      },
      "source": [
        "### Problem 6\n",
        "\n",
        "Write a function `p6` that takes in two inputs, a function and an array, and returns `True` if calling that function with the array as input returns a view of that array and `False` otherwise."
      ]
    },
    {
      "cell_type": "code",
      "execution_count": 43,
      "metadata": {
        "id": "DEBqqZt8a7Ar"
      },
      "outputs": [],
      "source": [
        "# YOUR CHANGES HERE\n",
        "\n",
        "def p6(f, x):\n",
        "    result_array = f(x)\n",
        "    return (result_array.base is not None)"
      ]
    },
    {
      "cell_type": "code",
      "execution_count": 44,
      "metadata": {
        "colab": {
          "base_uri": "https://localhost:8080/"
        },
        "id": "qr0ppw6tO9fs",
        "outputId": "ae4834ba-2f65-4e89-d2f9-d75a7556efa4"
      },
      "outputs": [
        {
          "output_type": "execute_result",
          "data": {
            "text/plain": [
              "False"
            ]
          },
          "metadata": {},
          "execution_count": 44
        }
      ],
      "source": [
        "p6(np.sum, np.arange(20))"
      ]
    },
    {
      "cell_type": "code",
      "execution_count": 45,
      "metadata": {
        "colab": {
          "base_uri": "https://localhost:8080/"
        },
        "id": "FQpm7SovO9fs",
        "outputId": "19914c6d-ef72-434f-d0d4-dbc849ccd35c"
      },
      "outputs": [
        {
          "output_type": "execute_result",
          "data": {
            "text/plain": [
              "True"
            ]
          },
          "metadata": {},
          "execution_count": 45
        }
      ],
      "source": [
        "p6(np.fliplr, np.zeros((3, 4)))"
      ]
    },
    {
      "cell_type": "markdown",
      "metadata": {
        "id": "1ZXEEmuTa-2X"
      },
      "source": [
        "### Problem 7\n",
        "\n",
        "Write a function `p7` that takes in an array, and if it is a view, returns a number indicating the proportion of the original array that is seen through the view, and returns `None` if the array is not a view.\n",
        "If the input is an array of 10 elements, and it is a view of an array of 20 elements, your function should return 0.5.\n"
      ]
    },
    {
      "cell_type": "code",
      "execution_count": 58,
      "metadata": {
        "id": "NjgTz5ffbGcG"
      },
      "outputs": [],
      "source": [
        "# YOUR CHANGES HERE\n",
        "\n",
        "def p7(x):\n",
        "  if x.base is not None:\n",
        "    size = len(np.ravel(x))\n",
        "    base_size = len(np.ravel(x.base))\n",
        "\n",
        "    proportion = size/base_size\n",
        "    return proportion\n",
        "  return None"
      ]
    },
    {
      "cell_type": "code",
      "execution_count": 54,
      "metadata": {
        "colab": {
          "base_uri": "https://localhost:8080/"
        },
        "id": "_2OvDkxjO9fs",
        "outputId": "fad4673e-5831-4927-c8be-29eef1db9eec"
      },
      "outputs": [
        {
          "output_type": "execute_result",
          "data": {
            "text/plain": [
              "0.5"
            ]
          },
          "metadata": {},
          "execution_count": 54
        }
      ],
      "source": [
        "# a view\n",
        "\n",
        "t7a = np.arange(20)\n",
        "t7b = t7a[::2]\n",
        "p7(t7b)"
      ]
    },
    {
      "cell_type": "code",
      "execution_count": 57,
      "metadata": {
        "colab": {
          "base_uri": "https://localhost:8080/"
        },
        "id": "oCHKqk3qO9fs",
        "outputId": "100e1c53-f45f-4edc-86e3-797deacaa763"
      },
      "outputs": [
        {
          "output_type": "stream",
          "name": "stdout",
          "text": [
            "None\n"
          ]
        }
      ],
      "source": [
        "# not a view\n",
        "\n",
        "p7(np.arange(20))"
      ]
    },
    {
      "cell_type": "markdown",
      "metadata": {
        "id": "lB03Y4mjbI17"
      },
      "source": [
        "### Problem 8\n",
        "\n",
        "Write a function `p8` that returns the diagonal of an input 2-dimensional array. The diagonal of an array $x$ is the elements $x[0][0], x[1][1], x[2][2], \\ldots$.\n"
      ]
    },
    {
      "cell_type": "code",
      "execution_count": 61,
      "metadata": {
        "id": "6KZ5c-xEbRbb"
      },
      "outputs": [],
      "source": [
        "# YOUR CHANGES HERE\n",
        "\n",
        "def p8(x):\n",
        "  return x.diagonal()"
      ]
    },
    {
      "cell_type": "code",
      "execution_count": 62,
      "metadata": {
        "colab": {
          "base_uri": "https://localhost:8080/"
        },
        "id": "l6HTK8OaO9fs",
        "outputId": "6e6dd6a6-98f1-415a-8a50-94e72f037218"
      },
      "outputs": [
        {
          "output_type": "execute_result",
          "data": {
            "text/plain": [
              "array([1, 5, 9])"
            ]
          },
          "metadata": {},
          "execution_count": 62
        }
      ],
      "source": [
        "p8(np.array([[1, 2, 3], [4, 5, 6], [7, 8, 9]]))"
      ]
    },
    {
      "cell_type": "markdown",
      "metadata": {
        "id": "gYLD2VQzbTDO"
      },
      "source": [
        "### Problem 9\n",
        "\n",
        "Write a function `p9` that returns a view of the diagonal of an input 2-dimensional array but it must return a view of the original array. (If your previous answer already returned a view, you may reuse it.)"
      ]
    },
    {
      "cell_type": "code",
      "execution_count": 76,
      "metadata": {
        "id": "Srm6NfFabYUL"
      },
      "outputs": [],
      "source": [
        "# YOUR CHANGES HERE\n",
        "\n",
        "def p9(x):\n",
        "    d = x.diagonal()\n",
        "    return d"
      ]
    },
    {
      "cell_type": "code",
      "execution_count": 77,
      "metadata": {
        "id": "DaTzRvJ5O9fw"
      },
      "outputs": [],
      "source": [
        "x9 = np.array([[0, 1, 2], [3, 4, 5], [6, 7, 8]])"
      ]
    },
    {
      "cell_type": "code",
      "execution_count": 78,
      "metadata": {
        "colab": {
          "base_uri": "https://localhost:8080/"
        },
        "id": "DatiqKQrO9fw",
        "outputId": "20e0da7d-71e6-4754-cb4b-37acfd2a6c1d"
      },
      "outputs": [
        {
          "output_type": "execute_result",
          "data": {
            "text/plain": [
              "array([0, 4, 8])"
            ]
          },
          "metadata": {},
          "execution_count": 78
        }
      ],
      "source": [
        "p9(x9)"
      ]
    },
    {
      "cell_type": "code",
      "execution_count": 79,
      "metadata": {
        "colab": {
          "base_uri": "https://localhost:8080/"
        },
        "id": "ZmoFTARrO9fw",
        "outputId": "e61930e3-7f91-4411-f4e5-c8cee11f2641"
      },
      "outputs": [
        {
          "output_type": "execute_result",
          "data": {
            "text/plain": [
              "True"
            ]
          },
          "metadata": {},
          "execution_count": 79
        }
      ],
      "source": [
        "# uncomment to test after you finish p9\n",
        "\n",
        "p9(x9).base is x9"
      ]
    },
    {
      "cell_type": "markdown",
      "metadata": {
        "id": "2bqraGEQO9fw"
      },
      "source": [
        "### Problem 10\n",
        "\n",
        "The [$X + Y$ sorting problem](https://en.wikipedia.org/wiki/X_%2B_Y_sorting) considers the problem of sorting pairs of numbers from two lists of numbers, $X$ and $Y$, by their sums.\n",
        "Write a function `p10` that takes in two 1-dimensional arrays, $x$ and $y$, and returns a two dimensional array $z$ such that $z[i,j] = x[i] + y[j]$."
      ]
    },
    {
      "cell_type": "markdown",
      "metadata": {
        "id": "xyJZC6uTO9fw"
      },
      "source": [
        "Hint: use broadcasting."
      ]
    },
    {
      "cell_type": "code",
      "execution_count": 97,
      "metadata": {
        "id": "gi0oCt-aO9fw"
      },
      "outputs": [],
      "source": [
        "# YOUR CHANGES HERE\n",
        "\n",
        "def p10(x, y):\n",
        "  x_col = x.reshape(-1, 1)\n",
        "  result_matrix = x_col + y\n",
        "  return result_matrix"
      ]
    },
    {
      "cell_type": "code",
      "execution_count": 98,
      "metadata": {
        "colab": {
          "base_uri": "https://localhost:8080/"
        },
        "id": "dYMZBkHDO9fw",
        "outputId": "71fc386d-ec60-49b3-a188-d22736b5f53e"
      },
      "outputs": [
        {
          "output_type": "execute_result",
          "data": {
            "text/plain": [
              "array([[11, 12, 13, 14, 15],\n",
              "       [21, 22, 23, 24, 25],\n",
              "       [31, 32, 33, 34, 35]])"
            ]
          },
          "metadata": {},
          "execution_count": 98
        }
      ],
      "source": [
        "p10(np.array([10, 20, 30]), np.array([1, 2, 3, 4, 5]))"
      ]
    },
    {
      "cell_type": "markdown",
      "metadata": {
        "id": "wTqFGHnxaFn2"
      },
      "source": [
        "### Problem 11\n",
        "\n",
        "Write a function `p11` taking an $n \\times k$ array and returns an $n \\times 3$ array where the first column is the minimum value of the input rows, the second column is the median of the input rows, and the third column is the maximum values of the input rows.\n"
      ]
    },
    {
      "cell_type": "markdown",
      "metadata": {
        "id": "PCLV0oz-aJ4d"
      },
      "source": [
        "Hint: there was a similar problem in week 6, but you will need `numpy.reshape` and `numpy.hstack` to adapt those results.\n"
      ]
    },
    {
      "cell_type": "code",
      "execution_count": 105,
      "metadata": {
        "id": "5yWtvBoQaLHF"
      },
      "outputs": [],
      "source": [
        "def p11(x):\n",
        "  min = np.min(x, axis=1)\n",
        "  med = np.median(x, axis=1)\n",
        "  max = np.max(x, axis=1)\n",
        "\n",
        "  min_col = min.reshape(-1,1)\n",
        "  med_col = med.reshape(-1,1)\n",
        "  max_col = max.reshape(-1,1)\n",
        "\n",
        "  result = np.hstack((min_col,med_col,max_col))\n",
        "\n",
        "  return (result)"
      ]
    },
    {
      "cell_type": "code",
      "execution_count": 106,
      "metadata": {
        "colab": {
          "base_uri": "https://localhost:8080/"
        },
        "id": "PqBpr3isO9fw",
        "outputId": "612c14b4-16a3-4cc7-8808-2e4403b6b1e6"
      },
      "outputs": [
        {
          "output_type": "execute_result",
          "data": {
            "text/plain": [
              "array([[ 0.,  2.,  4.],\n",
              "       [ 5.,  7.,  9.],\n",
              "       [10., 12., 14.]])"
            ]
          },
          "metadata": {},
          "execution_count": 106
        }
      ],
      "source": [
        "p11(np.array([[0, 1, 2, 3, 4],\n",
        "              [5, 6, 7, 8, 9],\n",
        "              [10, 11, 12, 13, 14]]))"
      ]
    },
    {
      "cell_type": "markdown",
      "metadata": {
        "id": "fwbdvvmjO9fw"
      },
      "source": [
        "### Problem 12\n",
        "\n",
        "What does the following code do?\n",
        "\n",
        "```\n",
        "def f12(vs):\n",
        "    return [v for (i, v) in enumerate(vs) if i >= 5]\n",
        "\n",
        "def g12(n):\n",
        "    for i in range(n):\n",
        "        yield i ** 2\n",
        "\n",
        "print(f12(g12(10)))\n",
        "```\n",
        "\n",
        "Set `p12` to the printed output."
      ]
    },
    {
      "cell_type": "code",
      "execution_count": 108,
      "metadata": {
        "id": "M7jrfOn1O9fw"
      },
      "outputs": [],
      "source": [
        "# YOUR CHANGES HERE\n",
        "\n",
        "p12 = [25, 36, 49, 64, 81]"
      ]
    },
    {
      "cell_type": "code",
      "execution_count": 109,
      "metadata": {
        "colab": {
          "base_uri": "https://localhost:8080/"
        },
        "id": "U-tnFlOsO9fw",
        "outputId": "5d383847-470f-4cc0-bce6-ca8ccead85b9"
      },
      "outputs": [
        {
          "output_type": "execute_result",
          "data": {
            "text/plain": [
              "[25, 36, 49, 64, 81]"
            ]
          },
          "metadata": {},
          "execution_count": 109
        }
      ],
      "source": [
        "p12"
      ]
    },
    {
      "cell_type": "markdown",
      "metadata": {
        "id": "280aTc6iO9fw"
      },
      "source": [
        "### Problem 13\n",
        "\n",
        "The following code is supposed to iterate the Collatz function until it reaches the value 1, but does not have the correct control flow.\n",
        "Modify the loop below so that it continues until the last entry of `p13` is one."
      ]
    },
    {
      "cell_type": "code",
      "execution_count": 110,
      "metadata": {
        "id": "5Ke_3dFdO9fw"
      },
      "outputs": [],
      "source": [
        "# DO NOT CHANGE\n",
        "\n",
        "def f13(x):\n",
        "    if x % 2 == 0:\n",
        "        # even case\n",
        "        return x // 2\n",
        "    else:\n",
        "        return 3 * x + 1"
      ]
    },
    {
      "cell_type": "code",
      "execution_count": 117,
      "metadata": {
        "id": "XABffkINO9fw"
      },
      "outputs": [],
      "source": [
        "# DO NOT CHANGE\n",
        "\n",
        "p13 = [27]"
      ]
    },
    {
      "cell_type": "code",
      "execution_count": 118,
      "metadata": {
        "id": "_n9l0QINO9fw"
      },
      "outputs": [],
      "source": [
        "# YOUR CHANGES HERE\n",
        "\n",
        "while p13[-1] !=1:\n",
        "    # apply f13() to the last entry of p13.\n",
        "    p13.append(f13(p13[-1]))"
      ]
    },
    {
      "cell_type": "code",
      "execution_count": null,
      "metadata": {
        "id": "wzF7QzzfO9fw"
      },
      "outputs": [],
      "source": [
        "# @title\n",
        "p13"
      ]
    },
    {
      "cell_type": "markdown",
      "metadata": {
        "id": "uixF9LM8O9fw"
      },
      "source": [
        "### Problem 14\n",
        "\n",
        "Set `p14` to be the shape tuple of the variable `q14` at the end of the following code.\n",
        "\n",
        "```\n",
        "q14 = np.arange(24)\n",
        "q14 = q14.reshape(3, -1)\n",
        "q14 = q14[:,::3]\n",
        "```"
      ]
    },
    {
      "cell_type": "code",
      "execution_count": 123,
      "metadata": {
        "id": "gX4NWezzO9fx"
      },
      "outputs": [],
      "source": [
        "# YOUR CHANGES HERE\n",
        "\n",
        "p14 = (3,3)"
      ]
    },
    {
      "cell_type": "code",
      "execution_count": 124,
      "metadata": {
        "colab": {
          "base_uri": "https://localhost:8080/"
        },
        "id": "Se7zzAzwO9fx",
        "outputId": "9d647b06-bd5d-4f3c-f160-038ce0415311"
      },
      "outputs": [
        {
          "output_type": "execute_result",
          "data": {
            "text/plain": [
              "(3, 3)"
            ]
          },
          "metadata": {},
          "execution_count": 124
        }
      ],
      "source": [
        "p14"
      ]
    },
    {
      "cell_type": "markdown",
      "metadata": {
        "id": "A1zUCXXgO9fx"
      },
      "source": [
        "### Problem 15\n",
        "\n",
        "The array `q15` below was filled with a sample of random numbers.\n",
        "The variable `p15` is a reference to the same array.\n",
        "Change the contents of `p15` so that the first row is all zeros.\n",
        "After your change to `p15`, the variables `p15` and `q15` should still be the same array."
      ]
    },
    {
      "cell_type": "markdown",
      "metadata": {
        "id": "PCXOewAhO9fx"
      },
      "source": [
        "Hint: use row indexing to easily overwrite just one row of `p15`."
      ]
    },
    {
      "cell_type": "code",
      "execution_count": 125,
      "metadata": {
        "colab": {
          "base_uri": "https://localhost:8080/"
        },
        "id": "bCB9v9nYO9fx",
        "outputId": "70a8c82a-7aec-46b5-a722-c5b0824482a7"
      },
      "outputs": [
        {
          "output_type": "execute_result",
          "data": {
            "text/plain": [
              "array([[ 1.76435665, -0.66892705, -1.08485379, -0.51982851,  1.2362559 ],\n",
              "       [ 0.15524724, -0.78679294, -0.9343088 ,  2.78526049,  0.19342893],\n",
              "       [ 0.76716362,  2.91044894, -0.80492143, -1.63290739, -0.50503081],\n",
              "       [ 0.09743684,  0.11846846,  1.0413396 ,  0.85669315,  0.30437891],\n",
              "       [ 0.56113285, -1.02444355, -1.57142929,  0.251055  , -1.09196046]])"
            ]
          },
          "metadata": {},
          "execution_count": 125
        }
      ],
      "source": [
        "# DO NOT CHANGE\n",
        "\n",
        "q15 = np.array([[ 1.76435665, -0.66892705, -1.08485379, -0.51982851,  1.2362559 ],\n",
        "       [ 0.15524724, -0.78679294, -0.9343088 ,  2.78526049,  0.19342893],\n",
        "       [ 0.76716362,  2.91044894, -0.80492143, -1.63290739, -0.50503081],\n",
        "       [ 0.09743684,  0.11846846,  1.0413396 ,  0.85669315,  0.30437891],\n",
        "       [ 0.56113285, -1.02444355, -1.57142929,  0.251055  , -1.09196046]])\n",
        "p15 = q15\n",
        "p15"
      ]
    },
    {
      "cell_type": "code",
      "execution_count": 134,
      "metadata": {
        "id": "V7NPAeT8O9fx"
      },
      "outputs": [],
      "source": [
        "# YOUR CHANGES HERE\n",
        "\n",
        "p15[0,:] =0"
      ]
    },
    {
      "cell_type": "code",
      "execution_count": 132,
      "metadata": {
        "colab": {
          "base_uri": "https://localhost:8080/"
        },
        "id": "BBjJXAu3O9fx",
        "outputId": "85e3a4ec-2ed3-4649-df7b-a5e172737c0d"
      },
      "outputs": [
        {
          "output_type": "execute_result",
          "data": {
            "text/plain": [
              "array([[ 0.        ,  0.        ,  0.        ,  0.        ,  0.        ],\n",
              "       [ 0.15524724, -0.78679294, -0.9343088 ,  2.78526049,  0.19342893],\n",
              "       [ 0.76716362,  2.91044894, -0.80492143, -1.63290739, -0.50503081],\n",
              "       [ 0.09743684,  0.11846846,  1.0413396 ,  0.85669315,  0.30437891],\n",
              "       [ 0.56113285, -1.02444355, -1.57142929,  0.251055  , -1.09196046]])"
            ]
          },
          "metadata": {},
          "execution_count": 132
        }
      ],
      "source": [
        "p15"
      ]
    },
    {
      "cell_type": "code",
      "execution_count": 133,
      "metadata": {
        "colab": {
          "base_uri": "https://localhost:8080/"
        },
        "id": "yEi8TNBnO9fx",
        "outputId": "3bdb4694-ef0f-40bd-b89d-b484b4dc26e7"
      },
      "outputs": [
        {
          "output_type": "execute_result",
          "data": {
            "text/plain": [
              "True"
            ]
          },
          "metadata": {},
          "execution_count": 133
        }
      ],
      "source": [
        "# confirm that p15 is still the same array\n",
        "id(p15) == id(q15)"
      ]
    },
    {
      "cell_type": "markdown",
      "metadata": {
        "id": "Lqgl5JozO9fx"
      },
      "source": [
        "### Problem 16\n",
        "\n",
        "Write a function `p16` that takes in numbers of rows and columns and a value, and uses `np.broadcast_to` to make a 2-dimensional array of the specified size that appears to have the specified dimensions and each has the given value.\n",
        "This will be similar to the output of `np.full`, except the resulting array will be read-only because of the broadcast usage."
      ]
    },
    {
      "cell_type": "code",
      "execution_count": 135,
      "metadata": {
        "id": "x5M-4UxhO9fx"
      },
      "outputs": [],
      "source": [
        "# YOUR CHANGES HERE\n",
        "\n",
        "def p16(rows, columns, value):\n",
        "  vector = np.array([value])\n",
        "  shape = (rows,columns)\n",
        "  return (np.broadcast_to(vector,shape))"
      ]
    },
    {
      "cell_type": "code",
      "execution_count": 136,
      "metadata": {
        "colab": {
          "base_uri": "https://localhost:8080/"
        },
        "id": "OMZszU8KO9fx",
        "outputId": "abadf2f7-c518-4a38-d05e-a014f90b1492"
      },
      "outputs": [
        {
          "output_type": "execute_result",
          "data": {
            "text/plain": [
              "array([[5, 5, 5, 5],\n",
              "       [5, 5, 5, 5],\n",
              "       [5, 5, 5, 5]])"
            ]
          },
          "metadata": {},
          "execution_count": 136
        }
      ],
      "source": [
        "t16 = p16(3, 4, 5)\n",
        "t16"
      ]
    },
    {
      "cell_type": "markdown",
      "metadata": {
        "id": "2nFjvzHnO9fx"
      },
      "source": [
        "### Problem 17\n",
        "\n",
        "Set `p17` to the contents of `q17` after running the following code.\n",
        "\n",
        "```\n",
        "q17 = np.arange(16)\n",
        "q17 = q17.reshape(-1, 4)\n",
        "q17 = np.flipud(q17)\n",
        "q17 = np.fliplr(q17)\n",
        "```"
      ]
    },
    {
      "cell_type": "code",
      "execution_count": 145,
      "metadata": {
        "id": "vqncuxqPO9fx"
      },
      "outputs": [],
      "source": [
        "# YOUR CHANGES HERE\n",
        "\n",
        "p17 = np.array([[15, 14, 13, 12],\n",
        "       [11, 10,  9,  8],\n",
        "       [ 7,  6,  5,  4],\n",
        "       [ 3,  2,  1,  0]])"
      ]
    },
    {
      "cell_type": "code",
      "execution_count": 146,
      "metadata": {
        "colab": {
          "base_uri": "https://localhost:8080/"
        },
        "id": "hIDJeIA3O9fx",
        "outputId": "a50c5858-1ea4-4788-e795-45039c9a272c"
      },
      "outputs": [
        {
          "output_type": "execute_result",
          "data": {
            "text/plain": [
              "array([[15, 14, 13, 12],\n",
              "       [11, 10,  9,  8],\n",
              "       [ 7,  6,  5,  4],\n",
              "       [ 3,  2,  1,  0]])"
            ]
          },
          "metadata": {},
          "execution_count": 146
        }
      ],
      "source": [
        "p17"
      ]
    },
    {
      "cell_type": "markdown",
      "metadata": {
        "id": "QxXXYh0LbdI_"
      },
      "source": [
        "### Problem 18\n",
        "\n",
        "Write a function `p18` that takes in a size $n$ and returns a 1-dimensional array of length $n$ where the first element is $1$ and the $i+1$th element is the $i$th element plus $1/(i+1)$.\n",
        "Make sure to test your function on at least $n=1000000$."
      ]
    },
    {
      "cell_type": "code",
      "execution_count": 158,
      "metadata": {
        "id": "rWqrcW7vbj0H"
      },
      "outputs": [],
      "source": [
        "# YOUR CHANGES HERE\n",
        "\n",
        "def p18(n):\n",
        "  bottom = np.arange(2, n + 1)\n",
        "  ratio = 1 / bottom\n",
        "  ith_term = np.insert(ratio, 0, 1.0)\n",
        "\n",
        "  result = np.cumsum(ith_term)\n",
        "  return result"
      ]
    },
    {
      "cell_type": "code",
      "source": [
        "# def p18(n):\n",
        "#   result_list = [1.0]\n",
        "#   for _ in range(n - 1):\n",
        "#     prev_val = result_list[-1]\n",
        "#     # Apply the new recursive rule: Z[i] = Z[i-1] + 1 / (Z[i-1] + 1)\n",
        "#     next_val = prev_val + (1.0 / (prev_val + 1.0))\n",
        "\n",
        "#     result_list.append(next_val)\n",
        "\n",
        "#   return np.array(result_list, dtype=np.float64)"
      ],
      "metadata": {
        "id": "GffDaNVT3iRX"
      },
      "execution_count": 171,
      "outputs": []
    },
    {
      "cell_type": "code",
      "execution_count": 172,
      "metadata": {
        "colab": {
          "base_uri": "https://localhost:8080/"
        },
        "id": "WlQgmdmdO9fx",
        "outputId": "2660ae13-1cb3-42b5-d6bb-c0dbc8a7ccbd"
      },
      "outputs": [
        {
          "output_type": "execute_result",
          "data": {
            "text/plain": [
              "array([1. , 1.5])"
            ]
          },
          "metadata": {},
          "execution_count": 172
        }
      ],
      "source": [
        "# should return array with contents [1, 1.5]\n",
        "p18(2)"
      ]
    },
    {
      "cell_type": "code",
      "execution_count": 173,
      "metadata": {
        "colab": {
          "base_uri": "https://localhost:8080/"
        },
        "id": "Q-reZ-LlO9fx",
        "outputId": "0423063f-35a6-4e37-ff7d-d2acbddd3dd3"
      },
      "outputs": [
        {
          "output_type": "execute_result",
          "data": {
            "text/plain": [
              "array([1.        , 1.5       , 1.9       , 2.24482759, 2.55301037])"
            ]
          },
          "metadata": {},
          "execution_count": 173
        }
      ],
      "source": [
        "p18(5)"
      ]
    },
    {
      "cell_type": "code",
      "execution_count": 174,
      "metadata": {
        "colab": {
          "base_uri": "https://localhost:8080/"
        },
        "id": "BzPQo4VAO9fx",
        "outputId": "4f36270f-4b15-4d97-fa52-32c21e520429"
      },
      "outputs": [
        {
          "output_type": "execute_result",
          "data": {
            "text/plain": [
              "array([1.00000000e+00, 1.50000000e+00, 1.90000000e+00, ...,\n",
              "       1.41321520e+03, 1.41321591e+03, 1.41321661e+03])"
            ]
          },
          "metadata": {},
          "execution_count": 174
        }
      ],
      "source": [
        "# this will be very slow if your function repeatedly builds fresh arrays.\n",
        "p18(1000000)"
      ]
    },
    {
      "cell_type": "markdown",
      "metadata": {
        "id": "ZAUE8SZ4O9fx"
      },
      "source": [
        "### Problem 19\n",
        "\n",
        "Write a function `p19` that takes in 3 values $a$, $b$, and $c$ and an array $X$ and returns $a X^2 + bX + c$.\n",
        "`p19` should return an array in the same shape as the input $X$."
      ]
    },
    {
      "cell_type": "code",
      "execution_count": 176,
      "metadata": {
        "id": "QzYKnKfIO9fx"
      },
      "outputs": [],
      "source": [
        "# YOUR CHANGES HERE\n",
        "\n",
        "def p19(a, b, c, X):\n",
        "  return a * X**2 + b * X + c\n",
        "\n"
      ]
    },
    {
      "cell_type": "code",
      "execution_count": 178,
      "metadata": {
        "colab": {
          "base_uri": "https://localhost:8080/"
        },
        "id": "1p42kqb0O9fy",
        "outputId": "7cdb24dc-7f2a-4e6b-86d3-86f2f84eaebe"
      },
      "outputs": [
        {
          "output_type": "execute_result",
          "data": {
            "text/plain": [
              "array([ 0,  1,  4,  9, 16, 25, 36, 49, 64, 81])"
            ]
          },
          "metadata": {},
          "execution_count": 178
        }
      ],
      "source": [
        "p19(1, 0, 0, np.arange(0, 10))"
      ]
    },
    {
      "cell_type": "code",
      "execution_count": 179,
      "metadata": {
        "colab": {
          "base_uri": "https://localhost:8080/"
        },
        "id": "5dOIhksaO9fy",
        "outputId": "68159c75-f25b-4625-df47-a4d373daa2a4"
      },
      "outputs": [
        {
          "output_type": "execute_result",
          "data": {
            "text/plain": [
              "array([1, 1, 1, 1, 1, 1, 1, 1, 1, 1])"
            ]
          },
          "metadata": {},
          "execution_count": 179
        }
      ],
      "source": [
        "p19(0, 0, 1, np.arange(0, 10))"
      ]
    },
    {
      "cell_type": "code",
      "execution_count": 180,
      "metadata": {
        "colab": {
          "base_uri": "https://localhost:8080/"
        },
        "id": "hYTZpQyxO9fy",
        "outputId": "fa21b30e-0a0f-4ebf-ecfe-a1324e3dc616"
      },
      "outputs": [
        {
          "output_type": "execute_result",
          "data": {
            "text/plain": [
              "array([  3,   6,  11,  18,  27,  38,  51,  66,  83, 102])"
            ]
          },
          "metadata": {},
          "execution_count": 180
        }
      ],
      "source": [
        "p19(1, 2, 3, np.arange(0, 10))"
      ]
    },
    {
      "cell_type": "markdown",
      "metadata": {
        "id": "5WO97foQaM9Z"
      },
      "source": [
        "### Problem 20\n",
        "\n",
        "Write a function `p20` taking in input array $X$ and return $X X^T$ where $X^T$ denotes matrix transposition, and $X X^T$ denotes combining $X$ and $X^T$ with matrix multiplication.\n"
      ]
    },
    {
      "cell_type": "code",
      "execution_count": 181,
      "metadata": {
        "id": "cENE8brYaTSa"
      },
      "outputs": [],
      "source": [
        "# YOUR CHANGES HERE\n",
        "\n",
        "def p20(X):\n",
        "  return (X @ X.T)"
      ]
    },
    {
      "cell_type": "code",
      "execution_count": 182,
      "metadata": {
        "colab": {
          "base_uri": "https://localhost:8080/"
        },
        "id": "L3UyZ8F_O9fy",
        "outputId": "ec4571f4-5493-4246-f3da-d14b26c4aaf6"
      },
      "outputs": [
        {
          "output_type": "execute_result",
          "data": {
            "text/plain": [
              "array([[ 1,  2,  3,  4,  5],\n",
              "       [ 2,  4,  6,  8, 10],\n",
              "       [ 3,  6,  9, 12, 15],\n",
              "       [ 4,  8, 12, 16, 20],\n",
              "       [ 5, 10, 15, 20, 25]])"
            ]
          },
          "metadata": {},
          "execution_count": 182
        }
      ],
      "source": [
        "# should return\n",
        "# [[1, 2, 3, 4, 5],\n",
        "#  [2, 4, 6, 8, 10],\n",
        "#  [3, 6, 9, 12, 15],\n",
        "#  [4, 8, 12, 16, 20],\n",
        "#  [5, 10, 15, 20, 25]]\n",
        "\n",
        "p20(np.array([[1], [2], [3], [4], [5]]))\n"
      ]
    },
    {
      "cell_type": "code",
      "execution_count": 183,
      "metadata": {
        "colab": {
          "base_uri": "https://localhost:8080/"
        },
        "id": "ReE15JLmO9fy",
        "outputId": "d90babcc-bfd3-458e-e3eb-8a30fff1553c"
      },
      "outputs": [
        {
          "output_type": "execute_result",
          "data": {
            "text/plain": [
              "array([[ 2,  3,  4,  5,  6],\n",
              "       [ 3,  5,  7,  9, 11],\n",
              "       [ 4,  7, 10, 13, 16],\n",
              "       [ 5,  9, 13, 17, 21],\n",
              "       [ 6, 11, 16, 21, 26]])"
            ]
          },
          "metadata": {},
          "execution_count": 183
        }
      ],
      "source": [
        "# should return\n",
        "# [[ 2,  3,  4,  5,  6],\n",
        "#  [ 3,  5,  7,  9, 11],\n",
        "#  [ 4,  7, 10, 13, 16],\n",
        "#  [ 5,  9, 13, 17, 21],\n",
        "#  [ 6, 11, 16, 21, 26]]\n",
        "\n",
        "p20(np.array([[1, 1], [2, 1], [3, 1], [4, 1], [5, 1]]))"
      ]
    }
  ],
  "metadata": {
    "colab": {
      "provenance": []
    },
    "kernelspec": {
      "display_name": "Python 3",
      "name": "python3"
    },
    "language_info": {
      "codemirror_mode": {
        "name": "ipython",
        "version": 3
      },
      "file_extension": ".py",
      "mimetype": "text/x-python",
      "name": "python",
      "nbconvert_exporter": "python",
      "pygments_lexer": "ipython3",
      "version": "3.12.6"
    }
  },
  "nbformat": 4,
  "nbformat_minor": 0
}